{
  "nbformat": 4,
  "nbformat_minor": 0,
  "metadata": {
    "colab": {
      "name": "CodeMarathon.ipynb",
      "version": "0.3.2",
      "provenance": [],
      "collapsed_sections": [],
      "toc_visible": true,
      "include_colab_link": true
    },
    "kernelspec": {
      "name": "python3",
      "display_name": "Python 3"
    },
    "accelerator": "GPU"
  },
  "cells": [
    {
      "cell_type": "markdown",
      "metadata": {
        "id": "view-in-github",
        "colab_type": "text"
      },
      "source": [
        "<a href=\"https://colab.research.google.com/github/mishraaayushman3/Code-Marathon-5.0-ML/blob/master/CodeMarathon.ipynb\" target=\"_parent\"><img src=\"https://colab.research.google.com/assets/colab-badge.svg\" alt=\"Open In Colab\"/></a>"
      ]
    },
    {
      "cell_type": "code",
      "metadata": {
        "id": "nYodmaTJlDA4",
        "colab_type": "code",
        "colab": {}
      },
      "source": [
        "import pandas as pd\n",
        "import numpy as np"
      ],
      "execution_count": 0,
      "outputs": []
    },
    {
      "cell_type": "code",
      "metadata": {
        "id": "qbpdxop_hqnz",
        "colab_type": "code",
        "colab": {}
      },
      "source": [
        "!pip install kaggle                              #no need to run\n",
        "!cp kaggle.json ~/.kaggle/                       #Run this after manually uploading \"kaggle.json file\" to copy thsi file to root directory\n",
        "!kaggle competitions download -c code-marathon-ml #To download dataset\n",
        "\n",
        "!unzip data.zip                                #To unzip ziped downloaded file\n",
        "\n",
        "mkdir data                                     #Dont run this. This is used to make directory\n",
        "!unzip data.zip -d \"./\"                        #Dont run this. It is used when unziping needs to be directed to a particular folder\n"
      ],
      "execution_count": 0,
      "outputs": []
    },
    {
      "cell_type": "code",
      "metadata": {
        "id": "EFkyJGuKc115",
        "colab_type": "code",
        "outputId": "975d14b4-1f92-4c80-c946-6d3588ee0e5f",
        "colab": {
          "base_uri": "https://localhost:8080/",
          "height": 202
        }
      },
      "source": [
        "!pip install kaggle\n",
        "!mkdir -p ~/.kaggle"
      ],
      "execution_count": 0,
      "outputs": [
        {
          "output_type": "stream",
          "text": [
            "Requirement already satisfied: kaggle in /usr/local/lib/python3.6/dist-packages (1.5.3)\n",
            "Requirement already satisfied: urllib3<1.25,>=1.21.1 in /usr/local/lib/python3.6/dist-packages (from kaggle) (1.22)\n",
            "Requirement already satisfied: six>=1.10 in /usr/local/lib/python3.6/dist-packages (from kaggle) (1.11.0)\n",
            "Requirement already satisfied: certifi in /usr/local/lib/python3.6/dist-packages (from kaggle) (2019.3.9)\n",
            "Requirement already satisfied: python-dateutil in /usr/local/lib/python3.6/dist-packages (from kaggle) (2.5.3)\n",
            "Requirement already satisfied: requests in /usr/local/lib/python3.6/dist-packages (from kaggle) (2.18.4)\n",
            "Requirement already satisfied: tqdm in /usr/local/lib/python3.6/dist-packages (from kaggle) (4.28.1)\n",
            "Requirement already satisfied: python-slugify in /usr/local/lib/python3.6/dist-packages (from kaggle) (3.0.0)\n",
            "Requirement already satisfied: chardet<3.1.0,>=3.0.2 in /usr/local/lib/python3.6/dist-packages (from requests->kaggle) (3.0.4)\n",
            "Requirement already satisfied: idna<2.7,>=2.5 in /usr/local/lib/python3.6/dist-packages (from requests->kaggle) (2.6)\n",
            "Requirement already satisfied: text-unidecode==1.2 in /usr/local/lib/python3.6/dist-packages (from python-slugify->kaggle) (1.2)\n"
          ],
          "name": "stdout"
        }
      ]
    },
    {
      "cell_type": "code",
      "metadata": {
        "id": "ccAu2GZmjeA-",
        "colab_type": "code",
        "colab": {}
      },
      "source": [
        "!cp kaggle.json ~/.kaggle/"
      ],
      "execution_count": 0,
      "outputs": []
    },
    {
      "cell_type": "code",
      "metadata": {
        "id": "Ey_VeF6Dldlu",
        "colab_type": "code",
        "outputId": "e342b38b-b0da-4e29-dda2-b361fdc6e324",
        "colab": {
          "base_uri": "https://localhost:8080/",
          "height": 84
        }
      },
      "source": [
        "!kaggle competitions download -c code-marathon-ml "
      ],
      "execution_count": 0,
      "outputs": [
        {
          "output_type": "stream",
          "text": [
            "Warning: Your Kaggle API key is readable by other users on this system! To fix this, you can run 'chmod 600 /root/.kaggle/kaggle.json'\n",
            "Downloading data.zip to /content\n",
            "100% 1.25G/1.26G [00:08<00:00, 134MB/s]\n",
            "100% 1.26G/1.26G [00:09<00:00, 150MB/s]\n"
          ],
          "name": "stdout"
        }
      ]
    },
    {
      "cell_type": "code",
      "metadata": {
        "id": "mNvgQ00n0XAd",
        "colab_type": "code",
        "colab": {}
      },
      "source": [
        "!unzip data.zip "
      ],
      "execution_count": 0,
      "outputs": []
    },
    {
      "cell_type": "code",
      "metadata": {
        "id": "ZxUfkIUXhjFP",
        "colab_type": "code",
        "outputId": "ad441a94-fd27-4ee0-bae4-b586a2b4b55e",
        "colab": {
          "base_uri": "https://localhost:8080/",
          "height": 34
        }
      },
      "source": [
        "import cv2\n",
        "\n",
        "#for training set\n",
        "X_data = []\n",
        "for i in range (0,18432):\n",
        "  image = cv2.imread(\"data/train/\" + str(i) + '.png')\n",
        "  image = cv2.resize(image,(100,100))\n",
        "  #image = cv2.fastNlMeansDenoisingColored(image,None,10,10,7,21)\n",
        "  X_data.append (image)\n",
        "\n",
        "X_train = np.array(X_data)\n",
        "print('X_train shape:', X_train.shape)\n"
      ],
      "execution_count": 0,
      "outputs": [
        {
          "output_type": "stream",
          "text": [
            "X_train shape: (18432, 100, 100, 3)\n"
          ],
          "name": "stdout"
        }
      ]
    },
    {
      "cell_type": "code",
      "metadata": {
        "id": "g1yNQYpD3uCD",
        "colab_type": "code",
        "outputId": "d3e0ae99-dc65-4a83-9508-79d7fb508ffa",
        "colab": {
          "base_uri": "https://localhost:8080/",
          "height": 34
        }
      },
      "source": [
        "import cv2\n",
        "#for test set\n",
        "X_data = []\n",
        "for i in range (0,16384):\n",
        "  image = cv2.imread('data/test/' + str(i) + 'test.png')\n",
        "  image = cv2.resize(image,(100,100))\n",
        "  #image = cv2.fastNlMeansDenoisingColored(image,None,10,10,7,21)\n",
        "  X_data.append (image)\n",
        "\n",
        "X_test = np.array(X_data)\n",
        "print('X_test shape:', X_test.shape)\n"
      ],
      "execution_count": 0,
      "outputs": [
        {
          "output_type": "stream",
          "text": [
            "X_test shape: (16384, 100, 100, 3)\n"
          ],
          "name": "stdout"
        }
      ]
    },
    {
      "cell_type": "code",
      "metadata": {
        "id": "zawTZqGawAHU",
        "colab_type": "code",
        "colab": {}
      },
      "source": [
        "X_train = X_train.astype('float32')\n",
        "X_test = X_test.astype('float32')\n",
        "\n",
        "X_train /= 256\n",
        "X_test /= 256"
      ],
      "execution_count": 0,
      "outputs": []
    },
    {
      "cell_type": "code",
      "metadata": {
        "id": "8MIeTu9olqWb",
        "colab_type": "code",
        "outputId": "403a9567-0970-44f5-cf32-c16b01bd6bb3",
        "colab": {
          "base_uri": "https://localhost:8080/",
          "height": 151
        }
      },
      "source": [
        "from keras.utils import np_utils\n",
        "Y_train = pd.read_csv(\"data/train.csv\")\n",
        "Y_train = Y_train.iloc[:,1].values\n",
        "#Y_train = [3,4,5,6,3,7,8]\n",
        "Y_train = np_utils.to_categorical(Y_train, num_classes = 9)\n",
        "Y_train"
      ],
      "execution_count": 0,
      "outputs": [
        {
          "output_type": "stream",
          "text": [
            "Using TensorFlow backend.\n"
          ],
          "name": "stderr"
        },
        {
          "output_type": "execute_result",
          "data": {
            "text/plain": [
              "array([[0., 0., 0., ..., 0., 0., 0.],\n",
              "       [0., 0., 0., ..., 0., 0., 1.],\n",
              "       [0., 0., 0., ..., 0., 0., 0.],\n",
              "       ...,\n",
              "       [0., 0., 0., ..., 0., 0., 0.],\n",
              "       [0., 0., 0., ..., 0., 0., 0.],\n",
              "       [0., 0., 0., ..., 0., 0., 0.]], dtype=float32)"
            ]
          },
          "metadata": {
            "tags": []
          },
          "execution_count": 9
        }
      ]
    },
    {
      "cell_type": "markdown",
      "metadata": {
        "id": "kK_oQxP7PXXm",
        "colab_type": "text"
      },
      "source": [
        "       \n",
        "       WITH THIS MODEL ACC: 0.98 AFTER 50 EPOCHS\n",
        "      \n",
        "      1.13982 SQUARED MEAN ERROR\n",
        "\n"
      ]
    },
    {
      "cell_type": "code",
      "metadata": {
        "id": "g4BDcoBnobTG",
        "colab_type": "code",
        "outputId": "9be43e1a-9bd8-411c-a88b-7026fb333f4b",
        "colab": {
          "base_uri": "https://localhost:8080/",
          "height": 154
        }
      },
      "source": [
        "  #MODEL1\n",
        "\n",
        "from keras.models import Sequential\n",
        "from keras.layers import Dense\n",
        "from keras.layers import Conv2D\n",
        "from keras.layers import MaxPooling2D\n",
        "from keras.layers import Flatten\n",
        "\n",
        "\n",
        "\n",
        "classifier = Sequential()\n",
        "\n",
        "classifier.add(Conv2D(32,3, 3, input_shape = (50,50, 3), activation = 'relu'))#for better resut use grayscale image\n",
        "classifier.add(MaxPooling2D(pool_size = (2,2)))\n",
        "\n",
        "classifier.add(Conv2D(64,2,2, activation = 'relu'))\n",
        "classifier.add(MaxPooling2D(pool_size = (2,2)))\n",
        "\n",
        "classifier.add(Flatten())\n",
        "\n",
        "classifier.add(Dense(units = 256, activation = 'relu'))\n",
        "classifier.add(Dense(units = 128, activation = 'relu'))\n",
        "classifier.add(Dense(units = 64,  activation = 'relu'))\n",
        "classifier.add(Dense(units = 32,  activation = 'relu'))\n",
        "classifier.add(Dense(units = 16,  activation = 'relu'))\n",
        "\n",
        "classifier.add(Dense(units = 9,  activation = 'softmax'))\n",
        "\n",
        "classifier.compile(optimizer = 'adam', loss = 'categorical_crossentropy', metrics = ['accuracy'])\n",
        "\n"
      ],
      "execution_count": 0,
      "outputs": [
        {
          "output_type": "stream",
          "text": [
            "WARNING:tensorflow:From /usr/local/lib/python3.6/dist-packages/tensorflow/python/framework/op_def_library.py:263: colocate_with (from tensorflow.python.framework.ops) is deprecated and will be removed in a future version.\n",
            "Instructions for updating:\n",
            "Colocations handled automatically by placer.\n"
          ],
          "name": "stdout"
        },
        {
          "output_type": "stream",
          "text": [
            "/usr/local/lib/python3.6/dist-packages/ipykernel_launcher.py:11: UserWarning: Update your `Conv2D` call to the Keras 2 API: `Conv2D(32, (3, 3), input_shape=(50, 50, 3..., activation=\"relu\")`\n",
            "  # This is added back by InteractiveShellApp.init_path()\n",
            "/usr/local/lib/python3.6/dist-packages/ipykernel_launcher.py:14: UserWarning: Update your `Conv2D` call to the Keras 2 API: `Conv2D(64, (2, 2), activation=\"relu\")`\n",
            "  \n"
          ],
          "name": "stderr"
        }
      ]
    },
    {
      "cell_type": "markdown",
      "metadata": {
        "id": "8rwXnLOHTFL8",
        "colab_type": "text"
      },
      "source": [
        "       \n",
        "       WITH THIS MODEL ACC: 0.9384 AFTER 50 EPOCHS\n",
        "      \n",
        "      0.87882 SQUARED MEAN ERROR\n",
        "\n"
      ]
    },
    {
      "cell_type": "code",
      "metadata": {
        "id": "IVLmwjZIQJDG",
        "colab_type": "code",
        "outputId": "c95895a3-1ad7-4b10-ec8f-73142ec95fe8",
        "colab": {
          "base_uri": "https://localhost:8080/",
          "height": 205
        }
      },
      "source": [
        "#MODEL2\n",
        "\n",
        "from keras.models import Sequential\n",
        "from keras.layers import Dense\n",
        "from keras.layers import Conv2D\n",
        "from keras.layers import MaxPooling2D\n",
        "from keras.layers import Flatten\n",
        "from keras.layers import Dropout\n",
        "\n",
        "\n",
        "classifier = Sequential()\n",
        "\n",
        "classifier.add(Conv2D(32,3, 3, input_shape = (50,50, 3), activation = 'relu'))#for better resut use grayscale image\n",
        "classifier.add(MaxPooling2D(pool_size = (2,2)))\n",
        "\n",
        "classifier.add(Conv2D(64,2,2, activation = 'relu'))\n",
        "classifier.add(MaxPooling2D(pool_size = (2,2)))\n",
        "\n",
        "classifier.add(Flatten())\n",
        "\n",
        "classifier.add(Dense(units = 256, activation = 'relu'))\n",
        "classifier.add(Dropout(0.2))\n",
        "classifier.add(Dense(units = 128, activation = 'relu'))\n",
        "classifier.add(Dropout(0.2))\n",
        "classifier.add(Dense(units = 64,  activation = 'relu'))\n",
        "classifier.add(Dropout(0.2))\n",
        "classifier.add(Dense(units = 32,  activation = 'relu'))\n",
        "classifier.add(Dropout(0.2))\n",
        "classifier.add(Dense(units = 16,  activation = 'relu'))\n",
        "\n",
        "classifier.add(Dense(units = 9,  activation = 'softmax'))\n",
        "\n",
        "classifier.compile(optimizer = 'adam', loss = 'categorical_crossentropy', metrics = ['accuracy'])\n",
        "\n"
      ],
      "execution_count": 0,
      "outputs": [
        {
          "output_type": "stream",
          "text": [
            "WARNING:tensorflow:From /usr/local/lib/python3.6/dist-packages/tensorflow/python/framework/op_def_library.py:263: colocate_with (from tensorflow.python.framework.ops) is deprecated and will be removed in a future version.\n",
            "Instructions for updating:\n",
            "Colocations handled automatically by placer.\n",
            "WARNING:tensorflow:From /usr/local/lib/python3.6/dist-packages/keras/backend/tensorflow_backend.py:3445: calling dropout (from tensorflow.python.ops.nn_ops) with keep_prob is deprecated and will be removed in a future version.\n",
            "Instructions for updating:\n",
            "Please use `rate` instead of `keep_prob`. Rate should be set to `rate = 1 - keep_prob`.\n"
          ],
          "name": "stdout"
        },
        {
          "output_type": "stream",
          "text": [
            "/usr/local/lib/python3.6/dist-packages/ipykernel_launcher.py:12: UserWarning: Update your `Conv2D` call to the Keras 2 API: `Conv2D(32, (3, 3), input_shape=(50, 50, 3..., activation=\"relu\")`\n",
            "  if sys.path[0] == '':\n",
            "/usr/local/lib/python3.6/dist-packages/ipykernel_launcher.py:15: UserWarning: Update your `Conv2D` call to the Keras 2 API: `Conv2D(64, (2, 2), activation=\"relu\")`\n",
            "  from ipykernel import kernelapp as app\n"
          ],
          "name": "stderr"
        }
      ]
    },
    {
      "cell_type": "code",
      "metadata": {
        "id": "5jo2SYZZTalq",
        "colab_type": "code",
        "outputId": "78757e66-0a4f-4619-ba21-8af90131f347",
        "colab": {
          "base_uri": "https://localhost:8080/",
          "height": 104
        }
      },
      "source": [
        "#MODEL3\n",
        "\n",
        "from keras.models import Sequential\n",
        "from keras.layers import Dense\n",
        "from keras.layers import Conv2D\n",
        "from keras.layers import MaxPooling2D\n",
        "from keras.layers import Flatten\n",
        "from keras.layers import Dropout\n",
        "\n",
        "\n",
        "classifier = Sequential()\n",
        "\n",
        "classifier.add(Conv2D(32,5,5, input_shape = (50,50, 3), activation = 'relu'))#for better resut use grayscale image\n",
        "classifier.add(MaxPooling2D(pool_size = (2,2)))\n",
        "\n",
        "classifier.add(Conv2D(64,2,2, activation = 'relu'))\n",
        "classifier.add(MaxPooling2D(pool_size = (2,2)))\n",
        "\n",
        "classifier.add(Flatten())\n",
        "\n",
        "classifier.add(Dense(units = 256, activation = 'relu'))\n",
        "classifier.add(Dropout(0.2))\n",
        "classifier.add(Dense(units = 128, activation = 'relu'))\n",
        "classifier.add(Dropout(0.2))\n",
        "classifier.add(Dense(units = 64,  activation = 'relu'))\n",
        "classifier.add(Dropout(0.2))\n",
        "classifier.add(Dense(units = 32,  activation = 'relu'))\n",
        "classifier.add(Dropout(0.2))\n",
        "classifier.add(Dense(units = 16,  activation = 'relu'))\n",
        "\n",
        "classifier.add(Dense(units = 9,  activation = 'softmax'))\n",
        "\n",
        "classifier.compile(optimizer = 'adam', loss = 'categorical_crossentropy', metrics = ['accuracy'])\n",
        "\n"
      ],
      "execution_count": 0,
      "outputs": [
        {
          "output_type": "stream",
          "text": [
            "/usr/local/lib/python3.6/dist-packages/ipykernel_launcher.py:12: UserWarning: Update your `Conv2D` call to the Keras 2 API: `Conv2D(32, (5, 5), input_shape=(50, 50, 3..., activation=\"relu\")`\n",
            "  if sys.path[0] == '':\n",
            "/usr/local/lib/python3.6/dist-packages/ipykernel_launcher.py:15: UserWarning: Update your `Conv2D` call to the Keras 2 API: `Conv2D(64, (2, 2), activation=\"relu\")`\n",
            "  from ipykernel import kernelapp as app\n"
          ],
          "name": "stderr"
        }
      ]
    },
    {
      "cell_type": "code",
      "metadata": {
        "id": "vDNjgRDVWGvm",
        "colab_type": "code",
        "outputId": "54c6da3a-e4f1-4da0-f4f2-b478ff0ef3a2",
        "colab": {
          "base_uri": "https://localhost:8080/",
          "height": 104
        }
      },
      "source": [
        "\n",
        "#MODEL4\n",
        "#Same as MODEL2 with the change that images are now resized to (100,100)\n",
        "\n",
        "import cv2\n",
        "\n",
        "#for training set\n",
        "X_data = []\n",
        "for i in range (0,18432):\n",
        "  image = cv2.imread(\"data/train/\" + str(i) + '.png')\n",
        "  image = cv2.resize(image,(100,100))\n",
        "  X_data.append (image)\n",
        "\n",
        "X_train = np.array(X_data)\n",
        "print('X_train shape:', X_train.shape)\n",
        "\n",
        "import cv2\n",
        "#for test set\n",
        "X_data = []\n",
        "for i in range (0,16384):\n",
        "  image = cv2.imread('data/test/' + str(i) + 'test.png')\n",
        "  image = cv2.resize(image,(100,100))\n",
        "  X_data.append (image)\n",
        "\n",
        "X_test = np.array(X_data)\n",
        "print('X_test shape:', X_test.shape)\n",
        "\n",
        "\n",
        "X_train = X_train.astype('float32')\n",
        "X_test = X_test.astype('float32')\n",
        "\n",
        "X_train /= 256\n",
        "X_test /= 256\n",
        "\n",
        "\n",
        "#MODEL2\n",
        "\n",
        "from keras.models import Sequential\n",
        "from keras.layers import Dense\n",
        "from keras.layers import Conv2D\n",
        "from keras.layers import MaxPooling2D\n",
        "from keras.layers import Flatten\n",
        "from keras.layers import Dropout\n",
        "\n",
        "\n",
        "classifier = Sequential()\n",
        "\n",
        "classifier.add(Conv2D(32,3, 3, input_shape = (100,100, 3), activation = 'relu'))#for better resut use grayscale image\n",
        "classifier.add(MaxPooling2D(pool_size = (2,2)))\n",
        "\n",
        "classifier.add(Conv2D(64,2,2, activation = 'relu'))\n",
        "classifier.add(MaxPooling2D(pool_size = (2,2)))\n",
        "\n",
        "classifier.add(Flatten())\n",
        "\n",
        "classifier.add(Dense(units = 256, activation = 'relu'))\n",
        "classifier.add(Dropout(0.2))\n",
        "classifier.add(Dense(units = 128, activation = 'relu'))\n",
        "classifier.add(Dropout(0.2))\n",
        "classifier.add(Dense(units = 64,  activation = 'relu'))\n",
        "classifier.add(Dropout(0.2))\n",
        "classifier.add(Dense(units = 32,  activation = 'relu'))\n",
        "classifier.add(Dropout(0.2))\n",
        "classifier.add(Dense(units = 16,  activation = 'relu'))\n",
        "\n",
        "classifier.add(Dense(units = 9,  activation = 'softmax'))\n",
        "\n",
        "classifier.compile(optimizer = 'adam', loss = 'categorical_crossentropy', metrics = ['accuracy'])\n",
        "\n"
      ],
      "execution_count": 0,
      "outputs": [
        {
          "output_type": "stream",
          "text": [
            "X_train shape: (18432, 100, 100, 3)\n",
            "X_test shape: (16384, 100, 100, 3)\n"
          ],
          "name": "stdout"
        },
        {
          "output_type": "stream",
          "text": [
            "/usr/local/lib/python3.6/dist-packages/ipykernel_launcher.py:45: UserWarning: Update your `Conv2D` call to the Keras 2 API: `Conv2D(32, (3, 3), input_shape=(100, 100,..., activation=\"relu\")`\n",
            "/usr/local/lib/python3.6/dist-packages/ipykernel_launcher.py:48: UserWarning: Update your `Conv2D` call to the Keras 2 API: `Conv2D(64, (2, 2), activation=\"relu\")`\n"
          ],
          "name": "stderr"
        }
      ]
    },
    {
      "cell_type": "code",
      "metadata": {
        "id": "tBBsFjqUf2xs",
        "colab_type": "code",
        "outputId": "b5516af5-264f-4f2f-9e20-12836692566a",
        "colab": {
          "base_uri": "https://localhost:8080/",
          "height": 104
        }
      },
      "source": [
        "#MODEL5\n",
        "\n",
        "from keras.models import Sequential\n",
        "from keras.layers import Dense\n",
        "from keras.layers import Conv2D\n",
        "from keras.layers import MaxPooling2D\n",
        "from keras.layers import Flatten\n",
        "from keras.layers import Dropout\n",
        "\n",
        "\n",
        "classifier = Sequential()\n",
        "\n",
        "classifier.add(Conv2D(32,3, 3, input_shape = (50,50, 3), activation = 'relu'))#for better resut use grayscale image\n",
        "classifier.add(MaxPooling2D(pool_size = (2,2)))\n",
        "\n",
        "classifier.add(Conv2D(64,2,2, activation = 'relu'))\n",
        "classifier.add(MaxPooling2D(pool_size = (2,2)))\n",
        "\n",
        "classifier.add(Flatten())\n",
        "\n",
        "classifier.add(Dense(units = 128, activation = 'relu'))\n",
        "classifier.add(Dropout(0.2))\n",
        "\n",
        "classifier.add(Dense(units = 32,  activation = 'relu'))\n",
        "classifier.add(Dropout(0.2))\n",
        "\n",
        "\n",
        "classifier.add(Dense(units = 9,  activation = 'softmax'))\n",
        "\n",
        "classifier.compile(optimizer = 'adam', loss = 'categorical_crossentropy', metrics = ['accuracy'])\n",
        "\n"
      ],
      "execution_count": 0,
      "outputs": [
        {
          "output_type": "stream",
          "text": [
            "/usr/local/lib/python3.6/dist-packages/ipykernel_launcher.py:12: UserWarning: Update your `Conv2D` call to the Keras 2 API: `Conv2D(32, (3, 3), input_shape=(50, 50, 3..., activation=\"relu\")`\n",
            "  if sys.path[0] == '':\n",
            "/usr/local/lib/python3.6/dist-packages/ipykernel_launcher.py:15: UserWarning: Update your `Conv2D` call to the Keras 2 API: `Conv2D(64, (2, 2), activation=\"relu\")`\n",
            "  from ipykernel import kernelapp as app\n"
          ],
          "name": "stderr"
        }
      ]
    },
    {
      "cell_type": "code",
      "metadata": {
        "id": "kvFY2x16d_CU",
        "colab_type": "code",
        "colab": {}
      },
      "source": [
        ""
      ],
      "execution_count": 0,
      "outputs": []
    },
    {
      "cell_type": "code",
      "metadata": {
        "id": "XEW68GDkkEM2",
        "colab_type": "code",
        "outputId": "164edecb-27d9-4af1-ea3c-fb01c1a1b84f",
        "colab": {
          "base_uri": "https://localhost:8080/",
          "height": 104
        }
      },
      "source": [
        "#MODEL6\n",
        "\n",
        "from keras.models import Sequential\n",
        "from keras.layers import Dense\n",
        "from keras.layers import Conv2D\n",
        "from keras.layers import MaxPooling2D\n",
        "from keras.layers import Flatten\n",
        "from keras.layers import Dropout\n",
        "\n",
        "\n",
        "classifier = Sequential()\n",
        "\n",
        "classifier.add(Conv2D(32,3, 3, input_shape = (50,50, 3), activation = 'relu'))#for better resut use grayscale image\n",
        "classifier.add(MaxPooling2D(pool_size = (2,2)))\n",
        "\n",
        "classifier.add(Conv2D(64,2,2, activation = 'relu'))\n",
        "classifier.add(MaxPooling2D(pool_size = (2,2)))\n",
        "\n",
        "classifier.add(Flatten())\n",
        "\n",
        "classifier.add(Dense(units = 256, activation = 'relu'))\n",
        "classifier.add(Dropout(0.2))\n",
        "\n",
        "\n",
        "\n",
        "classifier.add(Dense(units = 9,  activation = 'softmax'))\n",
        "\n",
        "classifier.compile(optimizer = 'adam', loss = 'categorical_crossentropy', metrics = ['accuracy'])\n",
        "\n"
      ],
      "execution_count": 0,
      "outputs": [
        {
          "output_type": "stream",
          "text": [
            "/usr/local/lib/python3.6/dist-packages/ipykernel_launcher.py:12: UserWarning: Update your `Conv2D` call to the Keras 2 API: `Conv2D(32, (3, 3), input_shape=(50, 50, 3..., activation=\"relu\")`\n",
            "  if sys.path[0] == '':\n",
            "/usr/local/lib/python3.6/dist-packages/ipykernel_launcher.py:15: UserWarning: Update your `Conv2D` call to the Keras 2 API: `Conv2D(64, (2, 2), activation=\"relu\")`\n",
            "  from ipykernel import kernelapp as app\n"
          ],
          "name": "stderr"
        }
      ]
    },
    {
      "cell_type": "code",
      "metadata": {
        "id": "RXGLKXt7l8eU",
        "colab_type": "code",
        "outputId": "d35e7704-5de3-4d24-9bc2-46eaed0ea055",
        "colab": {
          "base_uri": "https://localhost:8080/",
          "height": 104
        }
      },
      "source": [
        "#MODEL7\n",
        "\n",
        "from keras.models import Sequential\n",
        "from keras.layers import Dense\n",
        "from keras.layers import Conv2D\n",
        "from keras.layers import MaxPooling2D\n",
        "from keras.layers import Flatten\n",
        "from keras.layers import Dropout\n",
        "\n",
        "\n",
        "classifier = Sequential()\n",
        "\n",
        "classifier.add(Conv2D(32,3, 3, input_shape = (50,50, 3), activation = 'relu'))#for better resut use grayscale image\n",
        "classifier.add(MaxPooling2D(pool_size = (2,2)))\n",
        "\n",
        "classifier.add(Conv2D(64,2,2, activation = 'relu'))\n",
        "classifier.add(MaxPooling2D(pool_size = (2,2)))\n",
        "\n",
        "classifier.add(Flatten())\n",
        "\n",
        "classifier.add(Dense(units = 128, activation = 'relu'))\n",
        "classifier.add(Dropout(0.25))\n",
        "\n",
        "\n",
        "\n",
        "classifier.add(Dense(units = 9,  activation = 'softmax'))\n",
        "\n",
        "classifier.compile(optimizer = 'adam', loss = 'categorical_crossentropy', metrics = ['accuracy'])\n",
        "\n"
      ],
      "execution_count": 0,
      "outputs": [
        {
          "output_type": "stream",
          "text": [
            "/usr/local/lib/python3.6/dist-packages/ipykernel_launcher.py:12: UserWarning: Update your `Conv2D` call to the Keras 2 API: `Conv2D(32, (3, 3), input_shape=(50, 50, 3..., activation=\"relu\")`\n",
            "  if sys.path[0] == '':\n",
            "/usr/local/lib/python3.6/dist-packages/ipykernel_launcher.py:15: UserWarning: Update your `Conv2D` call to the Keras 2 API: `Conv2D(64, (2, 2), activation=\"relu\")`\n",
            "  from ipykernel import kernelapp as app\n"
          ],
          "name": "stderr"
        }
      ]
    },
    {
      "cell_type": "code",
      "metadata": {
        "id": "WMh1pFNi6KVF",
        "colab_type": "code",
        "outputId": "665f4a13-cdb9-4391-b27e-58e392968ea9",
        "colab": {
          "base_uri": "https://localhost:8080/",
          "height": 50
        }
      },
      "source": [
        "#MODEL 8\n",
        "\n",
        "import cv2\n",
        "\n",
        "#for training set\n",
        "X_data = []\n",
        "for i in range (0,18432):\n",
        "  image = cv2.imread(\"data/train/\" + str(i) + '.png')\n",
        "  image = cv2.resize(image,(50,50))\n",
        "  X_data.append (image)\n",
        "\n",
        "X_train = np.array(X_data)\n",
        "print('X_train shape:', X_train.shape)\n",
        "\n",
        "import cv2\n",
        "#for test set\n",
        "X_data = []\n",
        "for i in range (0,16384):\n",
        "  image = cv2.imread('data/test/' + str(i) + 'test.png')\n",
        "  image = cv2.resize(image,(50,50))\n",
        "  X_data.append (image)\n",
        "\n",
        "X_test = np.array(X_data)\n",
        "print('X_test shape:', X_test.shape)\n"
      ],
      "execution_count": 0,
      "outputs": [
        {
          "output_type": "stream",
          "text": [
            "X_train shape: (18432, 50, 50, 3)\n",
            "X_test shape: (16384, 50, 50, 3)\n"
          ],
          "name": "stdout"
        }
      ]
    },
    {
      "cell_type": "code",
      "metadata": {
        "id": "OS5svUhw31MW",
        "colab_type": "code",
        "colab": {}
      },
      "source": [
        "#MODEL 8\n",
        "\n",
        "from keras.models import Sequential\n",
        "from keras.layers import Dense\n",
        "from keras.layers import Conv2D\n",
        "from keras.layers import MaxPooling2D\n",
        "from keras.layers import Flatten\n",
        "from keras.layers import Dropout\n",
        "\n",
        "\n",
        "classifier = Sequential()\n",
        "\n",
        "classifier.add(Conv2D(32,2,2, input_shape = (50,50, 3), activation = 'relu'))#for better resut use grayscale image\n",
        "classifier.add(MaxPooling2D(pool_size = (2,2)))\n",
        "\n",
        "classifier.add(Conv2D(64,2,2, activation = 'relu'))\n",
        "classifier.add(MaxPooling2D(pool_size = (2,2)))\n",
        "\n",
        "classifier.add(Flatten())\n",
        "\n",
        "classifier.add(Dense(units = 64,  activation = 'relu'))\n",
        "classifier.add(Dropout(0.25))\n",
        "\n",
        "classifier.add(Dense(units = 9,  activation = 'softmax'))\n",
        "\n",
        "classifier.compile(optimizer = 'adam', loss = 'categorical_crossentropy', metrics = ['accuracy'])\n",
        "\n",
        "from keras.preprocessing.image import ImageDataGenerator\n",
        "datagen = ImageDataGenerator(\n",
        "    horizontal_flip=True,\n",
        "    vertical_flip=True,\n",
        "    rescale = 1./255)\n",
        "\n",
        "# compute quantities required for featurewise normalization\n",
        "# (std, mean, and principal components if ZCA whitening is applied)\n",
        "datagen.fit(X_train)\n",
        "\n",
        "# fits the model on batches with real-time data augmentation:\n",
        "classifier.fit_generator(datagen.flow(X_train, Y_train, batch_size=128),\n",
        "                    steps_per_epoch=len(X_train) / 144, epochs=50)"
      ],
      "execution_count": 0,
      "outputs": []
    },
    {
      "cell_type": "code",
      "metadata": {
        "id": "3Y8Yn9P921W_",
        "colab_type": "code",
        "outputId": "c6f860e6-6c95-4ea2-938b-c4515427208d",
        "colab": {
          "base_uri": "https://localhost:8080/",
          "height": 50
        }
      },
      "source": [
        "#MODEL 10\n",
        "import cv2\n",
        "\n",
        "#for training set\n",
        "X_data = []\n",
        "for i in range (0,18432):\n",
        "  image = cv2.imread(\"data/train/\" + str(i) + '.png')\n",
        "  image = cv2.cvtColor(image, cv2.COLOR_BGR2GRAY)\n",
        "  image = cv2.resize(image,(50,50))\n",
        "  X_data.append (image)\n",
        "\n",
        "X_train = np.array(X_data)\n",
        "print('X_train shape:', X_train.shape)\n",
        "\n",
        "import cv2\n",
        "#for test set\n",
        "X_data = []\n",
        "for i in range (0,16384):\n",
        "  image = cv2.imread('data/test/' + str(i) + 'test.png')\n",
        "  image = cv2.cvtColor(image, cv2.COLOR_BGR2GRAY)\n",
        "  image = cv2.resize(image,(50,50))\n",
        "  X_data.append (image)\n",
        "\n",
        "X_test = np.array(X_data)\n",
        "print('X_test shape:', X_test.shape)"
      ],
      "execution_count": 0,
      "outputs": [
        {
          "output_type": "stream",
          "text": [
            "X_train shape: (18432, 50, 50)\n",
            "X_test shape: (16384, 50, 50)\n"
          ],
          "name": "stdout"
        }
      ]
    },
    {
      "cell_type": "code",
      "metadata": {
        "id": "ZsuKSc7y3aP8",
        "colab_type": "code",
        "colab": {}
      },
      "source": [
        "X_train = X_train.reshape(X_train.shape + (1,))\n",
        "X_test = X_test.reshape(X_test.shape + (1,))"
      ],
      "execution_count": 0,
      "outputs": []
    },
    {
      "cell_type": "code",
      "metadata": {
        "id": "VrFqhG_E3SgV",
        "colab_type": "code",
        "outputId": "4d772b6d-b831-4ceb-b325-be3fe576ea3e",
        "colab": {
          "base_uri": "https://localhost:8080/",
          "height": 205
        }
      },
      "source": [
        "#MODEL 10\n",
        "from keras.models import Sequential\n",
        "from keras.layers import Dense\n",
        "from keras.layers import Conv2D\n",
        "from keras.layers import MaxPooling2D\n",
        "from keras.layers import Flatten\n",
        "from keras.layers import Dropout\n",
        "\n",
        "\n",
        "classifier = Sequential()\n",
        "\n",
        "classifier.add(Conv2D(32,3, 3, input_shape = (50,50, 1), activation = 'relu'))#for better resut use grayscale image\n",
        "classifier.add(MaxPooling2D(pool_size = (2,2)))\n",
        "\n",
        "classifier.add(Conv2D(64,2,2, activation = 'relu'))\n",
        "classifier.add(MaxPooling2D(pool_size = (2,2)))\n",
        "\n",
        "classifier.add(Flatten())\n",
        "\n",
        "classifier.add(Dense(units = 256, activation = 'relu'))\n",
        "classifier.add(Dropout(0.2))\n",
        "classifier.add(Dense(units = 128, activation = 'relu'))\n",
        "classifier.add(Dropout(0.2))\n",
        "classifier.add(Dense(units = 64,  activation = 'relu'))\n",
        "classifier.add(Dropout(0.2))\n",
        "classifier.add(Dense(units = 32,  activation = 'relu'))\n",
        "classifier.add(Dropout(0.2))\n",
        "classifier.add(Dense(units = 16,  activation = 'relu'))\n",
        "\n",
        "classifier.add(Dense(units = 9,  activation = 'softmax'))\n",
        "\n",
        "classifier.compile(optimizer = 'adam', loss = 'categorical_crossentropy', metrics = ['accuracy'])\n"
      ],
      "execution_count": 0,
      "outputs": [
        {
          "output_type": "stream",
          "text": [
            "WARNING:tensorflow:From /usr/local/lib/python3.6/dist-packages/tensorflow/python/framework/op_def_library.py:263: colocate_with (from tensorflow.python.framework.ops) is deprecated and will be removed in a future version.\n",
            "Instructions for updating:\n",
            "Colocations handled automatically by placer.\n",
            "WARNING:tensorflow:From /usr/local/lib/python3.6/dist-packages/keras/backend/tensorflow_backend.py:3445: calling dropout (from tensorflow.python.ops.nn_ops) with keep_prob is deprecated and will be removed in a future version.\n",
            "Instructions for updating:\n",
            "Please use `rate` instead of `keep_prob`. Rate should be set to `rate = 1 - keep_prob`.\n"
          ],
          "name": "stdout"
        },
        {
          "output_type": "stream",
          "text": [
            "/usr/local/lib/python3.6/dist-packages/ipykernel_launcher.py:11: UserWarning: Update your `Conv2D` call to the Keras 2 API: `Conv2D(32, (3, 3), input_shape=(50, 50, 1..., activation=\"relu\")`\n",
            "  # This is added back by InteractiveShellApp.init_path()\n",
            "/usr/local/lib/python3.6/dist-packages/ipykernel_launcher.py:14: UserWarning: Update your `Conv2D` call to the Keras 2 API: `Conv2D(64, (2, 2), activation=\"relu\")`\n",
            "  \n"
          ],
          "name": "stderr"
        }
      ]
    },
    {
      "cell_type": "code",
      "metadata": {
        "id": "3nE_QMUJH-QY",
        "colab_type": "code",
        "outputId": "36471f31-93b5-491e-ccf9-443627101dcf",
        "colab": {
          "base_uri": "https://localhost:8080/",
          "height": 104
        }
      },
      "source": [
        "#MODEL 10\n",
        "from keras.models import Sequential\n",
        "from keras.layers import Dense\n",
        "from keras.layers import Conv2D\n",
        "from keras.layers import MaxPooling2D\n",
        "from keras.layers import Flatten\n",
        "from keras.layers import Dropout\n",
        "\n",
        "\n",
        "classifier = Sequential()\n",
        "\n",
        "classifier.add(Conv2D(32,3, 3, input_shape = (50,50, 1), activation = 'relu'))#for better resut use grayscale image\n",
        "classifier.add(MaxPooling2D(pool_size = (2,2)))\n",
        "\n",
        "classifier.add(Conv2D(64,2,2, activation = 'relu'))\n",
        "classifier.add(MaxPooling2D(pool_size = (2,2)))\n",
        "\n",
        "classifier.add(Flatten())\n",
        "\n",
        "classifier.add(Dense(units = 256, activation = 'relu'))\n",
        "classifier.add(Dropout(0.3))\n",
        "classifier.add(Dense(units = 128, activation = 'relu'))\n",
        "classifier.add(Dropout(0.3))\n",
        "classifier.add(Dense(units = 64,  activation = 'relu'))\n",
        "classifier.add(Dropout(0.3))\n",
        "classifier.add(Dense(units = 32,  activation = 'relu'))\n",
        "classifier.add(Dropout(0.3))\n",
        "classifier.add(Dense(units = 16,  activation = 'relu'))\n",
        "\n",
        "classifier.add(Dense(units = 9,  activation = 'softmax'))\n",
        "\n",
        "classifier.compile(optimizer = 'adam', loss = 'categorical_crossentropy', metrics = ['accuracy'])\n"
      ],
      "execution_count": 0,
      "outputs": [
        {
          "output_type": "stream",
          "text": [
            "/usr/local/lib/python3.6/dist-packages/ipykernel_launcher.py:11: UserWarning: Update your `Conv2D` call to the Keras 2 API: `Conv2D(32, (3, 3), input_shape=(50, 50, 1..., activation=\"relu\")`\n",
            "  # This is added back by InteractiveShellApp.init_path()\n",
            "/usr/local/lib/python3.6/dist-packages/ipykernel_launcher.py:14: UserWarning: Update your `Conv2D` call to the Keras 2 API: `Conv2D(64, (2, 2), activation=\"relu\")`\n",
            "  \n"
          ],
          "name": "stderr"
        }
      ]
    },
    {
      "cell_type": "code",
      "metadata": {
        "id": "qeNjjTMnVUCA",
        "colab_type": "code",
        "colab": {}
      },
      "source": [
        "from keras import applications\n",
        "from keras.models import Sequential\n",
        "from keras.layers import Dense\n",
        "from keras.layers import Dropout\n",
        "from keras.layers import Flatten"
      ],
      "execution_count": 0,
      "outputs": []
    },
    {
      "cell_type": "code",
      "metadata": {
        "id": "JKreegV1fCW9",
        "colab_type": "code",
        "outputId": "804d0c56-d847-4afb-95d6-9536054a4f02",
        "colab": {
          "base_uri": "https://localhost:8080/",
          "height": 54
        }
      },
      "source": [
        "vgg_model = applications.VGG16(weights='imagenet',\n",
        "                               include_top=False,\n",
        "                               input_shape=(50,50, 3))\n",
        "\n",
        "# Creating dictionary that maps layer names to the layers\n",
        "layer_dict = dict([(layer.name, layer) for layer in vgg_model.layers])\n",
        "\n",
        "# Getting output tensor of the last VGG layer that we want to include\n",
        "x = layer_dict['block5_pool'].output\n",
        "\n",
        "# Stacking a new simple convolutional network on top of it  \n",
        "\n",
        "x = Flatten()(x)\n",
        "x = Dense(256, activation='relu')(x)\n",
        "x = Dropout(0.5)(x)\n",
        "x = Dense(9, activation='softmax')(x)\n",
        "\n",
        "# Creating new model. Please note that this is NOT a Sequential() model.\n",
        "from keras.models import Model\n",
        "custom_model = Model(input=vgg_model.input, output=x)\n",
        "\n",
        "# Make sure that the pre-trained bottom layers are not trainable\n",
        "for layer in custom_model.layers[:19]:\n",
        "    layer.trainable = False\n",
        "\n",
        "# Do not forget to compile it\n",
        "custom_model.compile(loss='categorical_crossentropy',\n",
        "                     optimizer='adam',\n",
        "                     metrics=['accuracy'])"
      ],
      "execution_count": 0,
      "outputs": [
        {
          "output_type": "stream",
          "text": [
            "/usr/local/lib/python3.6/dist-packages/ipykernel_launcher.py:20: UserWarning: Update your `Model` call to the Keras 2 API: `Model(inputs=Tensor(\"in..., outputs=Tensor(\"de...)`\n"
          ],
          "name": "stderr"
        }
      ]
    },
    {
      "cell_type": "code",
      "metadata": {
        "id": "_f4T9A2UaFtb",
        "colab_type": "code",
        "colab": {}
      },
      "source": [
        "custom_model.summary()"
      ],
      "execution_count": 0,
      "outputs": []
    },
    {
      "cell_type": "code",
      "metadata": {
        "id": "zj64lQ5Eaj5T",
        "colab_type": "code",
        "outputId": "76901a1b-4f53-479a-a1e9-ad901f1c9ea0",
        "colab": {
          "base_uri": "https://localhost:8080/",
          "height": 162
        }
      },
      "source": [
        "classifier = classifier.pop()"
      ],
      "execution_count": 0,
      "outputs": [
        {
          "output_type": "error",
          "ename": "AttributeError",
          "evalue": "ignored",
          "traceback": [
            "\u001b[0;31m---------------------------------------------------------------------------\u001b[0m",
            "\u001b[0;31mAttributeError\u001b[0m                            Traceback (most recent call last)",
            "\u001b[0;32m<ipython-input-53-bc82dbe69edb>\u001b[0m in \u001b[0;36m<module>\u001b[0;34m()\u001b[0m\n\u001b[0;32m----> 1\u001b[0;31m \u001b[0mclassifier\u001b[0m \u001b[0;34m=\u001b[0m \u001b[0mclassifier\u001b[0m\u001b[0;34m.\u001b[0m\u001b[0mpop\u001b[0m\u001b[0;34m(\u001b[0m\u001b[0;34m)\u001b[0m\u001b[0;34m\u001b[0m\u001b[0;34m\u001b[0m\u001b[0m\n\u001b[0m",
            "\u001b[0;31mAttributeError\u001b[0m: 'Tensor' object has no attribute 'pop'"
          ]
        }
      ]
    },
    {
      "cell_type": "code",
      "metadata": {
        "id": "2Jqw_sOKa1FX",
        "colab_type": "code",
        "outputId": "060fdae2-1ead-43cc-c15a-ec4b5e50dfe1",
        "colab": {
          "base_uri": "https://localhost:8080/",
          "height": 178
        }
      },
      "source": [
        "classifier.add(Dense(units = 64, activation = 'relu'))\n",
        "classifier.add(Dense(units = 9, activation = 'softmax'))"
      ],
      "execution_count": 0,
      "outputs": [
        {
          "output_type": "error",
          "ename": "AttributeError",
          "evalue": "ignored",
          "traceback": [
            "\u001b[0;31m---------------------------------------------------------------------------\u001b[0m",
            "\u001b[0;31mAttributeError\u001b[0m                            Traceback (most recent call last)",
            "\u001b[0;32m<ipython-input-52-1b58aed157dd>\u001b[0m in \u001b[0;36m<module>\u001b[0;34m()\u001b[0m\n\u001b[0;32m----> 1\u001b[0;31m \u001b[0mclassifier\u001b[0m\u001b[0;34m.\u001b[0m\u001b[0madd\u001b[0m\u001b[0;34m(\u001b[0m\u001b[0mDense\u001b[0m\u001b[0;34m(\u001b[0m\u001b[0munits\u001b[0m \u001b[0;34m=\u001b[0m \u001b[0;36m64\u001b[0m\u001b[0;34m,\u001b[0m \u001b[0mactivation\u001b[0m \u001b[0;34m=\u001b[0m \u001b[0;34m'relu'\u001b[0m\u001b[0;34m)\u001b[0m\u001b[0;34m)\u001b[0m\u001b[0;34m\u001b[0m\u001b[0;34m\u001b[0m\u001b[0m\n\u001b[0m\u001b[1;32m      2\u001b[0m \u001b[0mclassifier\u001b[0m\u001b[0;34m.\u001b[0m\u001b[0madd\u001b[0m\u001b[0;34m(\u001b[0m\u001b[0mDense\u001b[0m\u001b[0;34m(\u001b[0m\u001b[0munits\u001b[0m \u001b[0;34m=\u001b[0m \u001b[0;36m9\u001b[0m\u001b[0;34m,\u001b[0m \u001b[0mactivation\u001b[0m \u001b[0;34m=\u001b[0m \u001b[0;34m'softmax'\u001b[0m\u001b[0;34m)\u001b[0m\u001b[0;34m)\u001b[0m\u001b[0;34m\u001b[0m\u001b[0;34m\u001b[0m\u001b[0m\n",
            "\u001b[0;31mAttributeError\u001b[0m: 'Tensor' object has no attribute 'add'"
          ]
        }
      ]
    },
    {
      "cell_type": "code",
      "metadata": {
        "id": "juGw0s5UXmJG",
        "colab_type": "code",
        "colab": {}
      },
      "source": [
        "classifier.compile(optimizer = 'adam', loss = 'categorical_crossentropy', metrics = ['accuracy'])"
      ],
      "execution_count": 0,
      "outputs": []
    },
    {
      "cell_type": "code",
      "metadata": {
        "id": "itqyuwo6W_8y",
        "colab_type": "code",
        "outputId": "a7dcc2f6-a1bb-4545-fddf-7f7905378154",
        "colab": {
          "base_uri": "https://localhost:8080/",
          "height": 50
        }
      },
      "source": [
        "import cv2\n",
        "\n",
        "#for training set\n",
        "X_data = []\n",
        "for i in range (0,18432):\n",
        "  image = cv2.imread(\"data/train/\" + str(i) + '.png')\n",
        "  image = cv2.resize(image,(50,50))\n",
        "  X_data.append (image)\n",
        "\n",
        "X_train = np.array(X_data)\n",
        "print('X_train shape:', X_train.shape)\n",
        "\n",
        "import cv2\n",
        "#for test set\n",
        "X_data = []\n",
        "for i in range (0,16384):\n",
        "  image = cv2.imread('data/test/' + str(i) + 'test.png')\n",
        "  image = cv2.resize(image,(50,50))\n",
        "  X_data.append (image)\n",
        "\n",
        "X_test = np.array(X_data)\n",
        "print('X_test shape:', X_test.shape)"
      ],
      "execution_count": 0,
      "outputs": [
        {
          "output_type": "stream",
          "text": [
            "X_train shape: (18432, 50, 50, 3)\n",
            "X_test shape: (16384, 50, 50, 3)\n"
          ],
          "name": "stdout"
        }
      ]
    },
    {
      "cell_type": "code",
      "metadata": {
        "id": "el5i9dCUOUyo",
        "colab_type": "code",
        "colab": {}
      },
      "source": [
        "import pandas as pd\n",
        "import numpy as np \n",
        "import matplotlib.pyplot as plt\n",
        "from PIL import Image\n",
        "from tqdm import tqdm_notebook\n",
        "%matplotlib inline\n",
        "from sklearn.utils import shuffle\n",
        "import cv2\n",
        "\n",
        "\n",
        "from keras.models import load_model\n",
        "from sklearn.datasets import load_files   \n",
        "from keras.utils import np_utils\n",
        "from glob import glob\n",
        "from keras import applications\n",
        "from keras.preprocessing.image import ImageDataGenerator \n",
        "from keras import optimizers\n",
        "from keras.models import Sequential,Model,load_model\n",
        "from keras.layers import Dense, Dropout, Flatten, Conv2D, MaxPool2D,GlobalAveragePooling2D\n",
        "from keras.callbacks import TensorBoard,ReduceLROnPlateau,ModelCheckpoint"
      ],
      "execution_count": 0,
      "outputs": []
    },
    {
      "cell_type": "code",
      "metadata": {
        "id": "-V97kY7EXNTi",
        "colab_type": "code",
        "outputId": "40e5ed26-bac9-40a5-9cf3-30a28214b864",
        "colab": {
          "base_uri": "https://localhost:8080/",
          "height": 171
        }
      },
      "source": [
        "img_height,img_width = 100,100\n",
        "base_model = applications.resnet50.ResNet50(weights= None, include_top=False, input_shape= (img_height,img_width,3))\n",
        "x = base_model.output\n",
        "x = GlobalAveragePooling2D()(x)\n",
        "x = Dropout(0.7)(x)\n",
        "predictions = Dense(9, activation= 'softmax')(x)\n",
        "model = Model(inputs = base_model.input, outputs = predictions)"
      ],
      "execution_count": 0,
      "outputs": [
        {
          "output_type": "stream",
          "text": [
            "WARNING:tensorflow:From /usr/local/lib/python3.6/dist-packages/tensorflow/python/framework/op_def_library.py:263: colocate_with (from tensorflow.python.framework.ops) is deprecated and will be removed in a future version.\n",
            "Instructions for updating:\n",
            "Colocations handled automatically by placer.\n",
            "WARNING:tensorflow:From /usr/local/lib/python3.6/dist-packages/keras/backend/tensorflow_backend.py:3445: calling dropout (from tensorflow.python.ops.nn_ops) with keep_prob is deprecated and will be removed in a future version.\n",
            "Instructions for updating:\n",
            "Please use `rate` instead of `keep_prob`. Rate should be set to `rate = 1 - keep_prob`.\n"
          ],
          "name": "stdout"
        },
        {
          "output_type": "stream",
          "text": [
            "/usr/local/lib/python3.6/dist-packages/keras_applications/resnet50.py:265: UserWarning: The output shape of `ResNet50(include_top=False)` has been changed since Keras 2.2.0.\n",
            "  warnings.warn('The output shape of `ResNet50(include_top=False)` '\n"
          ],
          "name": "stderr"
        }
      ]
    },
    {
      "cell_type": "code",
      "metadata": {
        "id": "VTF19jt0OO8v",
        "colab_type": "code",
        "colab": {}
      },
      "source": [
        "\n",
        "from keras.optimizers import SGD, Adam\n",
        "adam = Adam(lr=0.0001)\n",
        "model.compile(optimizer= adam, loss='categorical_crossentropy', metrics=['accuracy'])"
      ],
      "execution_count": 0,
      "outputs": []
    },
    {
      "cell_type": "code",
      "metadata": {
        "id": "ho4QgszGO5Zk",
        "colab_type": "code",
        "colab": {}
      },
      "source": [
        "\n",
        "model.fit(X_train, Y_train, epochs = 100, batch_size = 64)"
      ],
      "execution_count": 0,
      "outputs": []
    },
    {
      "cell_type": "code",
      "metadata": {
        "id": "dy3_ijKT3IBc",
        "colab_type": "code",
        "outputId": "aea2c03a-1fae-4f15-fe47-e30f17e742d5",
        "colab": {
          "base_uri": "https://localhost:8080/",
          "height": 235
        }
      },
      "source": [
        "predictions = model.predict(X_test)\n",
        "print(predictions)\n"
      ],
      "execution_count": 0,
      "outputs": [
        {
          "output_type": "stream",
          "text": [
            "[[7.31614687e-26 4.91787199e-31 0.00000000e+00 ... 4.29747627e-13\n",
            "  2.63012010e-15 1.92213057e-16]\n",
            " [4.74825947e-06 1.12351643e-06 2.03179820e-08 ... 5.16519308e-01\n",
            "  6.46026134e-02 8.97826348e-03]\n",
            " [1.45369894e-09 2.86907165e-11 5.88344423e-13 ... 2.23207808e-05\n",
            "  1.74370186e-07 1.03812936e-09]\n",
            " ...\n",
            " [1.35874633e-16 9.17686902e-20 7.86480813e-25 ... 1.14883003e-09\n",
            "  4.50752109e-11 1.31903375e-12]\n",
            " [7.83315145e-13 5.23890047e-15 5.84511722e-19 ... 2.85896499e-06\n",
            "  1.00567004e-08 1.10601073e-09]\n",
            " [2.20033410e-13 4.51249550e-16 8.62075278e-19 ... 1.03431805e-08\n",
            "  2.20314281e-10 2.04310592e-12]]\n"
          ],
          "name": "stdout"
        }
      ]
    },
    {
      "cell_type": "code",
      "metadata": {
        "id": "_PESo0TULgMe",
        "colab_type": "code",
        "outputId": "a78e83b8-8162-4330-f5de-50812b39eaf7",
        "colab": {
          "base_uri": "https://localhost:8080/",
          "height": 34
        }
      },
      "source": [
        "predictions = classifier.predict_classes(X_test)\n",
        "print(predictions)"
      ],
      "execution_count": 0,
      "outputs": [
        {
          "output_type": "stream",
          "text": [
            "[4 6 4 ... 4 4 3]\n"
          ],
          "name": "stdout"
        }
      ]
    },
    {
      "cell_type": "code",
      "metadata": {
        "id": "b0MB7j0jm-lm",
        "colab_type": "code",
        "colab": {}
      },
      "source": [
        "predictions = model.predict(X_test)\n",
        "print(predictions)"
      ],
      "execution_count": 0,
      "outputs": []
    },
    {
      "cell_type": "code",
      "metadata": {
        "id": "D0xOTs78Sbkd",
        "colab_type": "code",
        "colab": {}
      },
      "source": [
        "predictions = np.argmax(predictions,axis=1)"
      ],
      "execution_count": 0,
      "outputs": []
    },
    {
      "cell_type": "code",
      "metadata": {
        "id": "M2hVZjkRnVUz",
        "colab_type": "code",
        "outputId": "13729652-ac44-49c8-adb7-776b2a305c85",
        "colab": {
          "base_uri": "https://localhost:8080/",
          "height": 34
        }
      },
      "source": [
        "print(predictions)"
      ],
      "execution_count": 0,
      "outputs": [
        {
          "output_type": "stream",
          "text": [
            "[3 6 3 ... 3 3 3]\n"
          ],
          "name": "stdout"
        }
      ]
    },
    {
      "cell_type": "code",
      "metadata": {
        "id": "fJV4pgvXJpy7",
        "colab_type": "code",
        "outputId": "b7c85205-6245-4eed-f433-435eccbc3142",
        "colab": {
          "base_uri": "https://localhost:8080/",
          "height": 34
        }
      },
      "source": [
        "t = []\n",
        "for i in range (0,16384):\n",
        "  t.append(str(i)+'test.png')\n",
        "print(len(t))"
      ],
      "execution_count": 0,
      "outputs": [
        {
          "output_type": "stream",
          "text": [
            "16384\n"
          ],
          "name": "stdout"
        }
      ]
    },
    {
      "cell_type": "code",
      "metadata": {
        "id": "8comeG3feEE4",
        "colab_type": "code",
        "colab": {}
      },
      "source": [
        "df = pd.DataFrame({'image_name':t,'n_sides':predictions})\n",
        "result2 = df.to_csv('result20.csv', index = False)"
      ],
      "execution_count": 0,
      "outputs": []
    },
    {
      "cell_type": "code",
      "metadata": {
        "id": "wwFZMwJlEF64",
        "colab_type": "code",
        "colab": {}
      },
      "source": [
        "from google.colab import files\n",
        "files.download('result20.csv')"
      ],
      "execution_count": 0,
      "outputs": []
    },
    {
      "cell_type": "code",
      "metadata": {
        "id": "6vaP-6usK25K",
        "colab_type": "code",
        "outputId": "265dc5ed-c0af-429a-f48e-0841a5535994",
        "colab": {
          "base_uri": "https://localhost:8080/",
          "height": 229
        }
      },
      "source": [
        "import h5py\n",
        "\n",
        "from keras.models import load_model\n",
        "\n",
        "classifier.save('MODEL18.h5')\n",
        "\n",
        "from google.colab import files\n",
        "files.download('MODEL18.h5')"
      ],
      "execution_count": 0,
      "outputs": [
        {
          "output_type": "error",
          "ename": "NameError",
          "evalue": "ignored",
          "traceback": [
            "\u001b[0;31m---------------------------------------------------------------------------\u001b[0m",
            "\u001b[0;31mNameError\u001b[0m                                 Traceback (most recent call last)",
            "\u001b[0;32m<ipython-input-20-5f96f361aa0e>\u001b[0m in \u001b[0;36m<module>\u001b[0;34m()\u001b[0m\n\u001b[1;32m      3\u001b[0m \u001b[0;32mfrom\u001b[0m \u001b[0mkeras\u001b[0m\u001b[0;34m.\u001b[0m\u001b[0mmodels\u001b[0m \u001b[0;32mimport\u001b[0m \u001b[0mload_model\u001b[0m\u001b[0;34m\u001b[0m\u001b[0;34m\u001b[0m\u001b[0m\n\u001b[1;32m      4\u001b[0m \u001b[0;34m\u001b[0m\u001b[0m\n\u001b[0;32m----> 5\u001b[0;31m \u001b[0mclassifier\u001b[0m\u001b[0;34m.\u001b[0m\u001b[0msave\u001b[0m\u001b[0;34m(\u001b[0m\u001b[0;34m'MODEL18.h5'\u001b[0m\u001b[0;34m)\u001b[0m\u001b[0;34m\u001b[0m\u001b[0;34m\u001b[0m\u001b[0m\n\u001b[0m\u001b[1;32m      6\u001b[0m \u001b[0;34m\u001b[0m\u001b[0m\n\u001b[1;32m      7\u001b[0m \u001b[0;32mfrom\u001b[0m \u001b[0mgoogle\u001b[0m\u001b[0;34m.\u001b[0m\u001b[0mcolab\u001b[0m \u001b[0;32mimport\u001b[0m \u001b[0mfiles\u001b[0m\u001b[0;34m\u001b[0m\u001b[0;34m\u001b[0m\u001b[0m\n",
            "\u001b[0;31mNameError\u001b[0m: name 'classifier' is not defined"
          ]
        }
      ]
    },
    {
      "cell_type": "code",
      "metadata": {
        "id": "tYXRBVFfHHRV",
        "colab_type": "code",
        "colab": {}
      },
      "source": [
        "classifier.fit(X_train,Y_train,batch_size = 64,epochs = 50)"
      ],
      "execution_count": 0,
      "outputs": []
    },
    {
      "cell_type": "code",
      "metadata": {
        "id": "JgmJmLNW5VvA",
        "colab_type": "code",
        "colab": {}
      },
      "source": [
        "import cv2\n",
        "image = cv2.imread('data/train/0.png')\n",
        "#image = cv2.resize(image,(50,50))\n",
        "#image = cv2.fastNlMeansDenoisingColored7(image,None,10,10,7,21)\n",
        "\n",
        "import cv2\n",
        "import numpy as np\n",
        "import PIL\n",
        "from IPython.display import display\n",
        "\n",
        "def cv2_imshow(a):\n",
        "  \"\"\"A replacement for cv2.imshow() for use in Jupyter notebooks.\"\"\"\n",
        "  a = a.clip(0, 255).astype('uint8')\n",
        "  # cv2 stores colors as BGR; convert to RGB\n",
        "  if a.ndim == 3:\n",
        "    if a.shape[2] == 4:\n",
        "      a = cv2.cvtColor(image, cv2.COLOR_BGRA2RGBA)\n",
        "    else:\n",
        "      a = cv2.cvtColor(image, cv2.COLOR_BGR2RGB)\n",
        "  display(PIL.Image.fromarray(a))\n",
        "cv2_imshow(image)"
      ],
      "execution_count": 0,
      "outputs": []
    },
    {
      "cell_type": "code",
      "metadata": {
        "id": "b1wlokQP7CcH",
        "colab_type": "code",
        "colab": {}
      },
      "source": [
        "\n",
        "from PIL import Image\n",
        "im = Image.open('data/train/0.png')\n",
        "im.show()\n"
      ],
      "execution_count": 0,
      "outputs": []
    },
    {
      "cell_type": "code",
      "metadata": {
        "id": "lnJctc8lAXRM",
        "colab_type": "code",
        "colab": {}
      },
      "source": [
        "import cv2\n",
        "#for test set\n",
        "X_data = []\n",
        "for i in range (0,16384):\n",
        "  image = cv2.imread('data/test/' + str(i) + 'test.png')\n",
        "  image = cv2.resize(image,(50,50))\n",
        "  X_data.append (image)\n",
        "\n",
        "X_test = np.array(X_data)\n",
        "print('X_test shape:', X_test.shape)\n"
      ],
      "execution_count": 0,
      "outputs": []
    },
    {
      "cell_type": "code",
      "metadata": {
        "id": "FDCbpBCddbPW",
        "colab_type": "code",
        "colab": {}
      },
      "source": [
        "from keras import applications\n",
        "from keras.models import Sequential\n",
        "from keras.layers import Dense\n",
        "from keras.layers import Dropout\n",
        "from keras.layers import Flatten\n",
        "\n",
        "vgg_model = applications.VGG16(weights='imagenet',\n",
        "                               include_top=False,\n",
        "                               input_shape=(100,100, 3))\n",
        "\n",
        "# Creating dictionary that maps layer names to the layers\n",
        "layer_dict = dict([(layer.name, layer) for layer in vgg_model.layers])\n",
        "\n",
        "# Getting output tensor of the last VGG layer that we want to include\n",
        "x = layer_dict['block5_pool'].output\n",
        "\n",
        "x = Flatten()(x)\n",
        "x = Dense(256, activation='relu')(x)\n",
        "x = Dropout(0.3)(x)\n",
        "x = Dense(128, activation='relu')(x)\n",
        "x = Dropout(0.3)(x)\n",
        "x = Dense(64, activation='relu')(x)\n",
        "x = Dropout(0.3)(x)\n",
        "x = Dense(32, activation='relu')(x)\n",
        "x = Dropout(0.3)(x)\n",
        "x = Dense(9, activation='softmax')(x)\n",
        "\n",
        "# Creating new model. Please note that this is NOT a Sequential() model.\n",
        "from keras.models import Model\n",
        "custom_model = Model(input=vgg_model.input, output=x)\n",
        "\n",
        "# Make sure that the pre-trained bottom layers are not trainable\n",
        "for layer in custom_model.layers[:19]:\n",
        "    layer.trainable = False\n",
        "\n",
        "# Do not forget to compile it\n",
        "custom_model.compile(loss='categorical_crossentropy',\n",
        "                     optimizer='adam',\n",
        "                     metrics=['accuracy'])"
      ],
      "execution_count": 0,
      "outputs": []
    },
    {
      "cell_type": "code",
      "metadata": {
        "id": "IFKfbARLxGIy",
        "colab_type": "code",
        "colab": {}
      },
      "source": [
        "custom_model.summary()"
      ],
      "execution_count": 0,
      "outputs": []
    },
    {
      "cell_type": "code",
      "metadata": {
        "id": "rFD8xCvqv-6F",
        "colab_type": "code",
        "colab": {}
      },
      "source": [
        "custom_model.fit(X_train,Y_train,batch_size = 1024,epochs = 100)"
      ],
      "execution_count": 0,
      "outputs": []
    }
  ]
}